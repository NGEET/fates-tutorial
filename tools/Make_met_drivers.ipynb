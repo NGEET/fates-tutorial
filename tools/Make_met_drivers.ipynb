{
 "cells": [
  {
   "cell_type": "markdown",
   "id": "38af9f97-7608-4dc9-b95e-0bcc360e81f4",
   "metadata": {},
   "source": [
    "## Make driving data for single point runs by subsetting GSWP3"
   ]
  },
  {
   "cell_type": "code",
   "execution_count": 1,
   "id": "50ec4cf7-7f00-4205-a7f2-da773b6e5c18",
   "metadata": {
    "tags": []
   },
   "outputs": [
    {
     "name": "stderr",
     "output_type": "stream",
     "text": [
      "/global/homes/j/jneedham/.conda/envs/myenv/lib/python3.9/site-packages/scipy/__init__.py:146: UserWarning: A NumPy version >=1.16.5 and <1.23.0 is required for this version of SciPy (detected version 1.24.3\n",
      "  warnings.warn(f\"A NumPy version >={np_minversion} and <{np_maxversion}\"\n"
     ]
    }
   ],
   "source": [
    "from scipy.stats import qmc\n",
    "import numpy as np\n",
    "import xarray as xr\n",
    "import csv\n",
    "import pandas as pd\n",
    "import os\n",
    "import netCDF4 as nc4\n",
    "import sys\n",
    "from tempfile import TemporaryFile                                                                                                                                 \n",
    "import argparse                                                                                                                                                     \n",
    "import shutil                                                                                                                                                       \n",
    "import tempfile \n",
    "import random\n"
   ]
  },
  {
   "cell_type": "code",
   "execution_count": 2,
   "id": "161fbf04-c63b-411c-9261-2994c893f7df",
   "metadata": {
    "tags": []
   },
   "outputs": [
    {
     "name": "stdout",
     "output_type": "stream",
     "text": [
      "280.1539\n"
     ]
    }
   ],
   "source": [
    "site = 'bci'\n",
    "lat = 9.154300000000\n",
    "lon = -79.846100000000\n",
    "\n",
    "if lon < 0 : \n",
    "     lon = 360 + lon\n",
    "     print(lon)"
   ]
  },
  {
   "cell_type": "markdown",
   "id": "ee473d4b-4ffd-4f4b-aac0-8b30115f6816",
   "metadata": {},
   "source": [
    "### Loop through the three streams (solar, precip and tphwl) and extract the lat lon of interest - save to NGEET directory "
   ]
  },
  {
   "cell_type": "code",
   "execution_count": 4,
   "id": "876c5ae2-5944-4b8d-8b76-4fb145107080",
   "metadata": {
    "tags": []
   },
   "outputs": [
    {
     "name": "stdout",
     "output_type": "stream",
     "text": [
      "[1, 2, 3, 4, 5, 6, 7, 8, 9, 10, 11, 12]\n",
      "[2014]\n"
     ]
    }
   ],
   "source": [
    "yrs = np.arange(2013,2015,1).tolist()\n",
    "months = np.arange(1,13,1).tolist()\n",
    "print(months)\n",
    "print(yrs)"
   ]
  },
  {
   "cell_type": "code",
   "execution_count": 5,
   "id": "517b27d0-eeef-4488-8642-75a0c4519e19",
   "metadata": {},
   "outputs": [
    {
     "name": "stdout",
     "output_type": "stream",
     "text": [
      "2014\n"
     ]
    }
   ],
   "source": [
    "for yr in yrs  :\n",
    "    print(yr)\n",
    "    for  mon in months : \n",
    "        \n",
    "        solar_full = '/global/cfs/cdirs/e3sm/inputdata/atm/datm7/atm_forcing.datm7.GSWP3.0.5d.v2.c180716/Solar3Hrly/clmforc.GSWP3.c2011.0.5x0.5.Solr.{}-{:02d}.nc'.format(yr, mon)\n",
    "        solar_full = xr.open_dataset(solar_full,  decode_times=False)\n",
    "\n",
    "        lon_mids = solar_full.LONGXY[0,0:720]\n",
    "        lat_mids = solar_full.LATIXY[0:360,0]\n",
    "\n",
    "        abslat = np.abs(lat_mids - lat)\n",
    "        abslon = np.abs(lon_mids - lon)\n",
    "        c = np.maximum(abslon, abslat)\n",
    "\n",
    "        ([xloc],[yloc]) = np.where(c == np.min(c))\n",
    "\n",
    "        lat_new = lat_mids[yloc]\n",
    "        lon_new = lon_mids[xloc]\n",
    "\n",
    "        solar = solar_full.isel(lon=[xloc],lat=[yloc])\n",
    "        solar.to_netcdf('/global/cfs/cdirs/m2420/fates-tutorial-2024/fates-tutorial/met_data/{}/solar/clmforc.GSWP3.c2011.0.5x0.5.Solr.{}.{}-{:02d}.nc'.format(site,site, yr, mon))\n",
    "\n",
    "\n",
    "        # precip\n",
    "        precip_full = '/global/cfs/cdirs/e3sm/inputdata/atm/datm7/atm_forcing.datm7.GSWP3.0.5d.v2.c180716/Precip3Hrly/clmforc.GSWP3.c2011.0.5x0.5.Prec.{}-{:02d}.nc'.format(yr, mon)\n",
    "        precip_full = xr.open_dataset(precip_full,  decode_times=False)\n",
    "        \n",
    "        precip = precip_full.isel(lon=[xloc],lat=[yloc])\n",
    "        precip.to_netcdf('/global/cfs/cdirs/m2420/fates-tutorial-2024/fates-tutorial/met_data/{}/precip/clmforc.GSWP3.c2011.0.5x0.5.Prec.{}.{}-{:02d}.nc'.format(site,site, yr, mon))\n",
    "        \n",
    "        # tphwl\n",
    "        tphwl_full = '/global/cfs/cdirs/e3sm/inputdata/atm/datm7/atm_forcing.datm7.GSWP3.0.5d.v2.c180716/TPHWL3Hrly/clmforc.GSWP3.c2011.0.5x0.5.TPQWL.{}-{:02d}.nc'.format(yr, mon)\n",
    "        tphwl_full = xr.open_dataset(tphwl_full,  decode_times=False)\n",
    "        \n",
    "        tphwl = tphwl_full.isel(lon=[xloc],lat=[yloc])\n",
    "        tphwl.to_netcdf('/global/cfs/cdirs/m2420/fates-tutorial-2024/fates-tutorial/met_data/{}/tphwl/clmforc.GSWP3.c2011.0.5x0.5.TPQWL.{}.{}-{:02d}.nc'.format(site,site, yr, mon))\n",
    "        \n"
   ]
  },
  {
   "cell_type": "markdown",
   "id": "b5034449-9b5d-4f6d-9569-2e9d62c56475",
   "metadata": {},
   "source": [
    "## Combine them into a single  file  per year"
   ]
  },
  {
   "cell_type": "code",
   "execution_count": 6,
   "id": "e5bdce38-9a89-4184-8870-541e41061a4b",
   "metadata": {
    "tags": []
   },
   "outputs": [
    {
     "name": "stdout",
     "output_type": "stream",
     "text": [
      "2014\n"
     ]
    }
   ],
   "source": [
    "for yr in yrs  :\n",
    "    print(yr)\n",
    "    for  mon in months :\n",
    "\n",
    "        solar = '/global/cfs/cdirs/m2420/fates-tutorial-2024/fates-tutorial/met_data/{}/solar/clmforc.GSWP3.c2011.0.5x0.5.Solr.{}.{}-{:02d}.nc'.format(site,site,yr,mon)\n",
    "        solar = xr.open_dataset(solar,  decode_times=False)\n",
    "\n",
    "        precip = '/global/cfs/cdirs/m2420/fates-tutorial-2024/fates-tutorial/met_data/{}/precip/clmforc.GSWP3.c2011.0.5x0.5.Prec.{}.{}-{:02d}.nc'.format(site,site,yr,mon)\n",
    "        precip = xr.open_dataset(precip,  decode_times=False)\n",
    "\n",
    "        tphwl = '/global/cfs/cdirs/m2420/fates-tutorial-2024/fates-tutorial/met_data/{}/tphwl/clmforc.GSWP3.c2011.0.5x0.5.TPQWL.{}.{}-{:02d}.nc'.format(site,site,yr,mon)\n",
    "        tphwl = xr.open_dataset(tphwl,  decode_times=False)\n",
    "\n",
    "\n",
    "        # the solar time is different than the other two, which messes up merge. Replace solar time with precip time\n",
    "        solar['time'] = precip['time']\n",
    "\n",
    "        combined = xr.merge([solar, precip, tphwl])\n",
    "\n",
    "        combined.to_netcdf('/global/cfs/cdirs/m2420/fates-tutorial-2024/fates-tutorial/met_data/{}/CLM1PT_data/{}-{:02d}.nc'.format(site,yr,mon))\n"
   ]
  },
  {
   "cell_type": "code",
   "execution_count": null,
   "id": "e9ad8c05-9f95-462f-975f-3e602f223fb0",
   "metadata": {},
   "outputs": [],
   "source": []
  }
 ],
 "metadata": {
  "kernelspec": {
   "display_name": "MyEnv",
   "language": "python",
   "name": "myenv"
  },
  "language_info": {
   "codemirror_mode": {
    "name": "ipython",
    "version": 3
   },
   "file_extension": ".py",
   "mimetype": "text/x-python",
   "name": "python",
   "nbconvert_exporter": "python",
   "pygments_lexer": "ipython3",
   "version": "3.9.16"
  }
 },
 "nbformat": 4,
 "nbformat_minor": 5
}
