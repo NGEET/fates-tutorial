{
 "cells": [
  {
   "cell_type": "markdown",
   "id": "6a37805b-4b56-47ce-9436-7608840ea1f3",
   "metadata": {},
   "source": [
    "### Make a surface and domain file given a lat  lon "
   ]
  },
  {
   "cell_type": "code",
   "execution_count": 13,
   "id": "6788ba19-665a-424f-b1e9-168ea094df45",
   "metadata": {},
   "outputs": [],
   "source": [
    "from scipy.stats import qmc\n",
    "import numpy as np\n",
    "import xarray as xr\n",
    "import csv\n",
    "import pandas as pd\n",
    "import os\n",
    "import netCDF4 as nc4\n",
    "import sys\n",
    "from tempfile import TemporaryFile                                                                                                                                 \n",
    "import argparse                                                                                                                                                     \n",
    "import shutil                                                                                                                                                       \n",
    "import tempfile \n",
    "import random\n"
   ]
  },
  {
   "cell_type": "markdown",
   "id": "5610e1af-d80b-4d82-bafa-4a2781956c88",
   "metadata": {},
   "source": [
    "### Domain file"
   ]
  },
  {
   "cell_type": "code",
   "execution_count": 14,
   "id": "99184689-9a4e-4fab-aa0c-77efde8b072d",
   "metadata": {},
   "outputs": [
    {
     "name": "stdout",
     "output_type": "stream",
     "text": [
      "<xarray.DataArray 'xc' (ni: 144)>\n",
      "array([  0. ,   2.5,   5. ,   7.5,  10. ,  12.5,  15. ,  17.5,  20. ,  22.5,\n",
      "        25. ,  27.5,  30. ,  32.5,  35. ,  37.5,  40. ,  42.5,  45. ,  47.5,\n",
      "        50. ,  52.5,  55. ,  57.5,  60. ,  62.5,  65. ,  67.5,  70. ,  72.5,\n",
      "        75. ,  77.5,  80. ,  82.5,  85. ,  87.5,  90. ,  92.5,  95. ,  97.5,\n",
      "       100. , 102.5, 105. , 107.5, 110. , 112.5, 115. , 117.5, 120. , 122.5,\n",
      "       125. , 127.5, 130. , 132.5, 135. , 137.5, 140. , 142.5, 145. , 147.5,\n",
      "       150. , 152.5, 155. , 157.5, 160. , 162.5, 165. , 167.5, 170. , 172.5,\n",
      "       175. , 177.5, 180. , 182.5, 185. , 187.5, 190. , 192.5, 195. , 197.5,\n",
      "       200. , 202.5, 205. , 207.5, 210. , 212.5, 215. , 217.5, 220. , 222.5,\n",
      "       225. , 227.5, 230. , 232.5, 235. , 237.5, 240. , 242.5, 245. , 247.5,\n",
      "       250. , 252.5, 255. , 257.5, 260. , 262.5, 265. , 267.5, 270. , 272.5,\n",
      "       275. , 277.5, 280. , 282.5, 285. , 287.5, 290. , 292.5, 295. , 297.5,\n",
      "       300. , 302.5, 305. , 307.5, 310. , 312.5, 315. , 317.5, 320. , 322.5,\n",
      "       325. , 327.5, 330. , 332.5, 335. , 337.5, 340. , 342.5, 345. , 347.5,\n",
      "       350. , 352.5, 355. , 357.5])\n",
      "Coordinates:\n",
      "    xc       (ni) float64 ...\n",
      "    yc       (ni) float64 ...\n",
      "Dimensions without coordinates: ni\n",
      "Attributes:\n",
      "    long_name:  longitude of grid cell center\n",
      "    units:      degrees_east\n",
      "    bounds:     xv\n"
     ]
    }
   ],
   "source": [
    "domain_full = '/global/cfs/cdirs/e3sm/inputdata/share/domains/domain.lnd.fv1.9x2.5_gx1v6.090206.nc'\n",
    "domain_full = xr.open_dataset(domain_full,  decode_times=False)\n",
    "\n",
    "lon_mids = domain_full.xc[0,0:144]\n",
    "lat_mids = domain_full.yc[0:96,0]\n",
    "\n",
    "print(lon_mids)"
   ]
  },
  {
   "cell_type": "code",
   "execution_count": 15,
   "id": "3a3b0daa-ba65-415f-a0db-716f5dfb73ae",
   "metadata": {},
   "outputs": [
    {
     "name": "stdout",
     "output_type": "stream",
     "text": [
      "280.1539\n",
      "8.5263157894736\n",
      "279.99999999999994\n"
     ]
    }
   ],
   "source": [
    "lat = 9.154300000000\n",
    "lon = -79.846100000000\n",
    "\n",
    "if lon < 0 : \n",
    "    lon = 360 + lon\n",
    "    print(lon)\n",
    "\n",
    "abslat = np.abs(lat_mids - lat)\n",
    "abslon = np.abs(lon_mids - lon)\n",
    "c = np.maximum(abslon, abslat)\n",
    "\n",
    "\n",
    "([xloc],[yloc]) = np.where(c == np.min(c))\n",
    "\n",
    "lat_new = lat_mids[yloc]\n",
    "print(lat_new.values)\n",
    "lon_new = lon_mids[xloc]\n",
    "print(lon_new.values)"
   ]
  },
  {
   "cell_type": "code",
   "execution_count": 16,
   "id": "dab31fcd-9b65-4b08-93ae-975509fc6ac8",
   "metadata": {},
   "outputs": [],
   "source": [
    "domain = domain_full.sel(ni=xloc,nj=yloc)\n",
    "domain.to_netcdf('/pscratch/sd/j/jneedham/fates-tutorial/domain_bci_fates_tutorial.nc')\n"
   ]
  },
  {
   "cell_type": "markdown",
   "id": "ea88ed60-4217-4cd7-be52-ad02dbd118fc",
   "metadata": {},
   "source": [
    "### Surface data file"
   ]
  },
  {
   "cell_type": "code",
   "execution_count": 17,
   "id": "885af475-8add-404f-86b5-fa87e7ccb7c8",
   "metadata": {},
   "outputs": [],
   "source": [
    "surfdata_full = '/global/cfs/cdirs/e3sm/inputdata/lnd/clm2/surfdata_map/surfdata_1.9x2.5_simyr2000_c180306.nc'\n",
    "surfdata_full = xr.open_dataset(surfdata_full,  decode_times=False)\n"
   ]
  },
  {
   "cell_type": "code",
   "execution_count": 18,
   "id": "69d4430c-99e5-4ac6-81bb-5b94d21cdd2f",
   "metadata": {},
   "outputs": [
    {
     "data": {
      "text/plain": [
       "Frozen({'lsmlat': 96, 'lsmlon': 144, 'nlevsoi': 10, 'natpft': 17, 'time': 12, 'lsmpft': 17, 'numurbl': 3, 'numrad': 2, 'nlevurb': 5})"
      ]
     },
     "execution_count": 18,
     "metadata": {},
     "output_type": "execute_result"
    }
   ],
   "source": [
    "surfdata_full.dims"
   ]
  },
  {
   "cell_type": "code",
   "execution_count": 19,
   "id": "7067450f-1884-4a09-b779-c43e2ccad34e",
   "metadata": {},
   "outputs": [],
   "source": [
    "surfdata = surfdata_full.sel(lsmlon=xloc,lsmlat=yloc)\n",
    "surfdata.to_netcdf('/pscratch/sd/j/jneedham/fates-tutorial/surfdata_bci_fates_tutorial.nc')\n"
   ]
  },
  {
   "cell_type": "code",
   "execution_count": null,
   "id": "3add3022-a03d-4f67-b59e-5a9874233b6b",
   "metadata": {},
   "outputs": [],
   "source": []
  }
 ],
 "metadata": {
  "kernelspec": {
   "display_name": "MyEnv",
   "language": "python",
   "name": "myenv"
  },
  "language_info": {
   "codemirror_mode": {
    "name": "ipython",
    "version": 3
   },
   "file_extension": ".py",
   "mimetype": "text/x-python",
   "name": "python",
   "nbconvert_exporter": "python",
   "pygments_lexer": "ipython3",
   "version": "3.9.7"
  }
 },
 "nbformat": 4,
 "nbformat_minor": 5
}
