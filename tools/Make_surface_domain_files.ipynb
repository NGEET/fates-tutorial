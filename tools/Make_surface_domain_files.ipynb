{
 "cells": [
  {
   "cell_type": "markdown",
   "id": "6a37805b-4b56-47ce-9436-7608840ea1f3",
   "metadata": {},
   "source": [
    "### Make a surface and domain file given a lat  lon "
   ]
  },
  {
   "cell_type": "code",
   "execution_count": 1,
   "id": "6788ba19-665a-424f-b1e9-168ea094df45",
   "metadata": {},
   "outputs": [
    {
     "name": "stderr",
     "output_type": "stream",
     "text": [
      "/global/homes/j/jneedham/.conda/envs/myenv/lib/python3.9/site-packages/scipy/__init__.py:146: UserWarning: A NumPy version >=1.16.5 and <1.23.0 is required for this version of SciPy (detected version 1.24.3\n",
      "  warnings.warn(f\"A NumPy version >={np_minversion} and <{np_maxversion}\"\n"
     ]
    }
   ],
   "source": [
    "from scipy.stats import qmc\n",
    "import numpy as np\n",
    "import xarray as xr\n",
    "import csv\n",
    "import pandas as pd\n",
    "import os\n",
    "import netCDF4 as nc4\n",
    "import sys\n",
    "from tempfile import TemporaryFile                                                                                                                                 \n",
    "import argparse                                                                                                                                                     \n",
    "import shutil                                                                                                                                                       \n",
    "import tempfile \n",
    "import random\n"
   ]
  },
  {
   "cell_type": "markdown",
   "id": "5610e1af-d80b-4d82-bafa-4a2781956c88",
   "metadata": {},
   "source": [
    "### Domain file"
   ]
  },
  {
   "cell_type": "code",
   "execution_count": 23,
   "id": "2eb729cb-459a-4d68-bf1c-a75a76cd0079",
   "metadata": {
    "tags": []
   },
   "outputs": [
    {
     "name": "stdout",
     "output_type": "stream",
     "text": [
      "299.791\n"
     ]
    }
   ],
   "source": [
    "### BCI \n",
    "#site = 'bci'\n",
    "#lat = 9.154300000000\n",
    "#lon = -79.846100000000\n",
    "\n",
    "### Manaus\n",
    "site = 'manaus'\n",
    "lat = -2.609\n",
    "lon = -60.209\n",
    "\n",
    "if lon < 0 : \n",
    "    lon = 360 + lon\n",
    "    print(lon)"
   ]
  },
  {
   "cell_type": "code",
   "execution_count": 26,
   "id": "99184689-9a4e-4fab-aa0c-77efde8b072d",
   "metadata": {},
   "outputs": [],
   "source": [
    "domain_full = '/global/cfs/cdirs/e3sm/inputdata/share/domains/domain.lnd.fv1.9x2.5_gx1v6.090206.nc'\n",
    "# high resolution run\n",
    "#domain_full = '/global/cfs/cdirs/e3sm/inputdata/share/domains/domain.lnd.r0125_gx1v6.191017.nc'\n",
    "domain_full = xr.open_dataset(domain_full,  decode_times=False)"
   ]
  },
  {
   "cell_type": "code",
   "execution_count": 27,
   "id": "3a3b0daa-ba65-415f-a0db-716f5dfb73ae",
   "metadata": {},
   "outputs": [
    {
     "name": "stdout",
     "output_type": "stream",
     "text": [
      "(array([120]), array([46]))\n",
      "-2.84210526315798\n",
      "300.0\n"
     ]
    }
   ],
   "source": [
    "lon_mids = domain_full.xc[0,0:144]\n",
    "lat_mids = domain_full.yc[0:96,0]\n",
    "\n",
    "abslat = np.abs(lat_mids - lat)\n",
    "abslon = np.abs(lon_mids - lon)\n",
    "c = np.maximum(abslon, abslat)\n",
    "\n",
    "([xloc],[yloc]) = np.where(c == np.min(c))\n",
    "\n",
    "lat_new = lat_mids[yloc]\n",
    "print(lat_new.values)\n",
    "lon_new = lon_mids[xloc]\n",
    "print(lon_new.values)\n",
    "\n",
    "domain = domain_full.sel(ni=[xloc],nj=[yloc])"
   ]
  },
  {
   "cell_type": "markdown",
   "id": "bbc75193-39e1-4a80-ad90-3a2e74ee0dff",
   "metadata": {},
   "source": [
    "#### Set frac to 1"
   ]
  },
  {
   "cell_type": "code",
   "execution_count": 12,
   "id": "c23ea506-151b-4ea5-8f5f-f63096d5e482",
   "metadata": {
    "tags": []
   },
   "outputs": [],
   "source": [
    "domain['frac'].values = [[1.0]]"
   ]
  },
  {
   "cell_type": "markdown",
   "id": "4e0a3e08-f759-47b6-bf6b-54f842a819f7",
   "metadata": {},
   "source": [
    "#### Save domain file"
   ]
  },
  {
   "cell_type": "code",
   "execution_count": 13,
   "id": "dab31fcd-9b65-4b08-93ae-975509fc6ac8",
   "metadata": {},
   "outputs": [],
   "source": [
    "domain.to_netcdf('/global/cfs/cdirs/m2420/fates-tutorial-2024/fates-tutorial/met_data/{0}/domain_{0}_fates_tutorial.nc'.format(site))"
   ]
  },
  {
   "cell_type": "markdown",
   "id": "ea88ed60-4217-4cd7-be52-ad02dbd118fc",
   "metadata": {},
   "source": [
    "### Surface data file"
   ]
  },
  {
   "cell_type": "code",
   "execution_count": 14,
   "id": "885af475-8add-404f-86b5-fa87e7ccb7c8",
   "metadata": {},
   "outputs": [],
   "source": [
    "surfdata_full = '/global/cfs/cdirs/e3sm/inputdata/lnd/clm2/surfdata_map/surfdata_1.9x2.5_simyr2000_c180306.nc'\n",
    "surfdata_full = xr.open_dataset(surfdata_full,  decode_times=False)"
   ]
  },
  {
   "cell_type": "markdown",
   "id": "9f8a93fc-4241-496d-8c65-704db61daa48",
   "metadata": {},
   "source": [
    "##### Subset by lat and lon"
   ]
  },
  {
   "cell_type": "code",
   "execution_count": 15,
   "id": "47bcd707-5b89-4914-a23f-f946e47bf90a",
   "metadata": {
    "tags": []
   },
   "outputs": [],
   "source": [
    "surfdata = surfdata_full.sel(lsmlon=[xloc],lsmlat=[yloc])"
   ]
  },
  {
   "cell_type": "markdown",
   "id": "3c9ffb93-92bb-4a49-9942-8453e067d56f",
   "metadata": {},
   "source": [
    "#### Set percent vegetation to 100%"
   ]
  },
  {
   "cell_type": "code",
   "execution_count": 16,
   "id": "ab86ef26-0785-4837-88c0-56af78b2f489",
   "metadata": {
    "tags": []
   },
   "outputs": [],
   "source": [
    "new_urban = [[[0]],[[0]],[[0]]]\n",
    "new_urban_array = xr.DataArray(new_urban, dims=['numurbl', 'lsmlat', 'lsmlon'],\n",
    "                               coords = {'numurbl':surfdata['numurbl'],'lsmlat':surfdata['lsmlat'],'lsmlon':surfdata['lsmlon']})\n",
    "surfdata['PCT_URBAN'] = new_urban_array\n",
    "\n",
    "surfdata['PCT_LAKE'].values = [[0.0]]\n",
    "surfdata['PCT_NATVEG'].values = [[100.0]]"
   ]
  },
  {
   "cell_type": "markdown",
   "id": "584e537a-b772-4eda-9077-1a69b382400a",
   "metadata": {},
   "source": [
    "#### Save surface file"
   ]
  },
  {
   "cell_type": "code",
   "execution_count": 17,
   "id": "3add3022-a03d-4f67-b59e-5a9874233b6b",
   "metadata": {},
   "outputs": [],
   "source": [
    "surfdata.to_netcdf('/global/cfs/cdirs/m2420/fates-tutorial-2024/fates-tutorial/met_data/{0}/surfdata_{0}_fates_tutorial.nc'.format(site))"
   ]
  },
  {
   "cell_type": "code",
   "execution_count": null,
   "id": "c9578a2f-2c27-461a-84ce-81f1930ebe14",
   "metadata": {},
   "outputs": [],
   "source": []
  }
 ],
 "metadata": {
  "kernelspec": {
   "display_name": "MyEnv",
   "language": "python",
   "name": "myenv"
  },
  "language_info": {
   "codemirror_mode": {
    "name": "ipython",
    "version": 3
   },
   "file_extension": ".py",
   "mimetype": "text/x-python",
   "name": "python",
   "nbconvert_exporter": "python",
   "pygments_lexer": "ipython3",
   "version": "3.9.16"
  }
 },
 "nbformat": 4,
 "nbformat_minor": 5
}
