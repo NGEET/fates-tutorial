{
 "cells": [
  {
   "cell_type": "markdown",
   "id": "6a37805b-4b56-47ce-9436-7608840ea1f3",
   "metadata": {},
   "source": [
    "### Make a surface and domain file given a lat  lon "
   ]
  },
  {
   "cell_type": "code",
   "execution_count": 1,
   "id": "6788ba19-665a-424f-b1e9-168ea094df45",
   "metadata": {},
   "outputs": [],
   "source": [
    "from scipy.stats import qmc\n",
    "import numpy as np\n",
    "import xarray as xr\n",
    "import csv\n",
    "import pandas as pd\n",
    "import os\n",
    "import netCDF4 as nc4\n",
    "import sys\n",
    "from tempfile import TemporaryFile                                                                                                                                 \n",
    "import argparse                                                                                                                                                     \n",
    "import shutil                                                                                                                                                       \n",
    "import tempfile \n",
    "import random\n"
   ]
  },
  {
   "cell_type": "markdown",
   "id": "5610e1af-d80b-4d82-bafa-4a2781956c88",
   "metadata": {},
   "source": [
    "### Domain file"
   ]
  },
  {
   "cell_type": "code",
   "execution_count": 2,
   "id": "99184689-9a4e-4fab-aa0c-77efde8b072d",
   "metadata": {},
   "outputs": [],
   "source": [
    "domain_full = '/global/cfs/cdirs/e3sm/inputdata/share/domains/domain.lnd.fv1.9x2.5_gx1v6.090206.nc'\n",
    "domain_full = xr.open_dataset(domain_full,  decode_times=False)\n",
    "\n",
    "lon_mids = domain_full.xc[0,0:144]\n",
    "lat_mids = domain_full.yc[0:96,0]"
   ]
  },
  {
   "cell_type": "code",
   "execution_count": 3,
   "id": "3a3b0daa-ba65-415f-a0db-716f5dfb73ae",
   "metadata": {},
   "outputs": [
    {
     "name": "stdout",
     "output_type": "stream",
     "text": [
      "280.1539\n",
      "8.5263157894736\n",
      "279.99999999999994\n"
     ]
    }
   ],
   "source": [
    "lat = 9.154300000000\n",
    "lon = -79.846100000000\n",
    "\n",
    "if lon < 0 : \n",
    "    lon = 360 + lon\n",
    "    print(lon)\n",
    "\n",
    "abslat = np.abs(lat_mids - lat)\n",
    "abslon = np.abs(lon_mids - lon)\n",
    "c = np.maximum(abslon, abslat)\n",
    "\n",
    "\n",
    "([xloc],[yloc]) = np.where(c == np.min(c))\n",
    "\n",
    "lat_new = lat_mids[yloc]\n",
    "print(lat_new.values)\n",
    "lon_new = lon_mids[xloc]\n",
    "print(lon_new.values)\n",
    "\n",
    "domain = domain_full.sel(ni=xloc,nj=yloc)"
   ]
  },
  {
   "cell_type": "markdown",
   "id": "bbc75193-39e1-4a80-ad90-3a2e74ee0dff",
   "metadata": {},
   "source": [
    "#### Set frac to 1"
   ]
  },
  {
   "cell_type": "code",
   "execution_count": 4,
   "id": "c23ea506-151b-4ea5-8f5f-f63096d5e482",
   "metadata": {
    "tags": []
   },
   "outputs": [],
   "source": [
    "domain['frac'] = 1.0"
   ]
  },
  {
   "cell_type": "markdown",
   "id": "4e0a3e08-f759-47b6-bf6b-54f842a819f7",
   "metadata": {},
   "source": [
    "#### Save domain file"
   ]
  },
  {
   "cell_type": "code",
   "execution_count": 5,
   "id": "dab31fcd-9b65-4b08-93ae-975509fc6ac8",
   "metadata": {},
   "outputs": [],
   "source": [
    "domain.to_netcdf('/pscratch/sd/j/jneedham/fates-tutorial/met_data/domain_bci_fates_tutorial.nc')"
   ]
  },
  {
   "cell_type": "markdown",
   "id": "ea88ed60-4217-4cd7-be52-ad02dbd118fc",
   "metadata": {},
   "source": [
    "### Surface data file"
   ]
  },
  {
   "cell_type": "code",
   "execution_count": 6,
   "id": "885af475-8add-404f-86b5-fa87e7ccb7c8",
   "metadata": {},
   "outputs": [
    {
     "data": {
      "text/plain": [
       "Frozen({'lsmlat': 96, 'lsmlon': 144, 'nlevsoi': 10, 'natpft': 17, 'time': 12, 'lsmpft': 17, 'numurbl': 3, 'numrad': 2, 'nlevurb': 5})"
      ]
     },
     "execution_count": 6,
     "metadata": {},
     "output_type": "execute_result"
    }
   ],
   "source": [
    "surfdata_full = '/global/cfs/cdirs/e3sm/inputdata/lnd/clm2/surfdata_map/surfdata_1.9x2.5_simyr2000_c180306.nc'\n",
    "surfdata_full = xr.open_dataset(surfdata_full,  decode_times=False)\n",
    "surfdata_full.dims"
   ]
  },
  {
   "cell_type": "markdown",
   "id": "9f8a93fc-4241-496d-8c65-704db61daa48",
   "metadata": {},
   "source": [
    "##### Subset by lat and lon"
   ]
  },
  {
   "cell_type": "code",
   "execution_count": 7,
   "id": "47bcd707-5b89-4914-a23f-f946e47bf90a",
   "metadata": {
    "tags": []
   },
   "outputs": [],
   "source": [
    "surfdata = surfdata_full.sel(lsmlon=xloc,lsmlat=yloc)"
   ]
  },
  {
   "cell_type": "markdown",
   "id": "3c9ffb93-92bb-4a49-9942-8453e067d56f",
   "metadata": {},
   "source": [
    "#### Set percent vegetation to 100%"
   ]
  },
  {
   "cell_type": "code",
   "execution_count": 8,
   "id": "ab86ef26-0785-4837-88c0-56af78b2f489",
   "metadata": {
    "tags": []
   },
   "outputs": [],
   "source": [
    "surfdata['PCT_NATVEG'] = 100\n",
    "new_urban = [0,0,0]\n",
    "new_urban_array = xr.DataArray(new_urban, dims=['numurbl'], coords = {'numurbl':surfdata['numurbl']})\n",
    "\n",
    "surfdata['PCT_URBAN'] = new_urban_array\n",
    "surfdata['PCT_LAKE'] = 0"
   ]
  },
  {
   "cell_type": "markdown",
   "id": "584e537a-b772-4eda-9077-1a69b382400a",
   "metadata": {},
   "source": [
    "#### Save surface file"
   ]
  },
  {
   "cell_type": "code",
   "execution_count": 9,
   "id": "3add3022-a03d-4f67-b59e-5a9874233b6b",
   "metadata": {},
   "outputs": [],
   "source": [
    "surfdata.to_netcdf('/pscratch/sd/j/jneedham/fates-tutorial/met_data/surfdata_bci_fates_tutorial.nc')"
   ]
  }
 ],
 "metadata": {
  "kernelspec": {
   "display_name": "MyEnv",
   "language": "python",
   "name": "myenv"
  },
  "language_info": {
   "codemirror_mode": {
    "name": "ipython",
    "version": 3
   },
   "file_extension": ".py",
   "mimetype": "text/x-python",
   "name": "python",
   "nbconvert_exporter": "python",
   "pygments_lexer": "ipython3",
   "version": "3.9.7"
  }
 },
 "nbformat": 4,
 "nbformat_minor": 5
}
