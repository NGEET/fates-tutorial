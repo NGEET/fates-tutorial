{
 "cells": [
  {
   "cell_type": "markdown",
   "metadata": {},
   "source": [
    "## Lesson 4\n",
    "\n",
    "You've now run a FATES simulation at an example forest plot and looked at the outputs. In this final lesson, you'll learn how to set up FATES simulations at a site of your choice. We will not be running these simulations - this lesson is meant as a starting point for your FATES journey once you leave the tutorial. \n",
    "\n",
    "### Forcing data \n",
    "- Using local met drivers\n",
    "- Subsetting global drivers\n",
    "\n",
    "### Surface and domain files\n",
    "- Subsetting global surface and domain files\n",
    "- Filling in  local information\n",
    "\n",
    "### Customizing your parameter file\n",
    "- Creating your PFTs\n"
   ]
  },
  {
   "cell_type": "code",
   "execution_count": null,
   "metadata": {},
   "outputs": [],
   "source": []
  }
 ],
 "metadata": {
  "kernelspec": {
   "display_name": "Python 3 (ipykernel)",
   "language": "python",
   "name": "python3"
  },
  "language_info": {
   "codemirror_mode": {
    "name": "ipython",
    "version": 3
   },
   "file_extension": ".py",
   "mimetype": "text/x-python",
   "name": "python",
   "nbconvert_exporter": "python",
   "pygments_lexer": "ipython3",
   "version": "3.11.3"
  },
  "widgets": {
   "application/vnd.jupyter.widget-state+json": {
    "state": {},
    "version_major": 2,
    "version_minor": 0
   }
  }
 },
 "nbformat": 4,
 "nbformat_minor": 4
}