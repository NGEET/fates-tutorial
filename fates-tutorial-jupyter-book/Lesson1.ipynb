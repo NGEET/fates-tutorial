{
 "cells": [
  {
   "cell_type": "markdown",
   "metadata": {},
   "source": [
    "## Lesson 1\n",
    "\n",
    "Lesson 1 explains how the FATES container works and demonstrates how to set up a run at an example site.  \n",
    "\n",
    "\n"
   ]
  },
  {
   "cell_type": "markdown",
   "metadata": {},
   "source": [
    "### FATES container\n",
    "- Fates container introduction\n"
   ]
  },
  {
   "cell_type": "markdown",
   "metadata": {},
   "source": [
    "### Getting started running FATES\n",
    "- Instructions for running FATES container\n",
    "\n",
    "In this example we are running FATES at Barro Colorado Island (BCI), Panama. We will initialize FATES with inventory data from the 50 ha ForestGEO plot on the island and run with a single tropical broadleaf evergreen tree PFT. We will run the model for 20 years. In lesson 2 we will assess changes in the aboveground biomass, number of individuals, size structure, and growth and mortality rates through time.   \n",
    "\n"
   ]
  },
  {
   "cell_type": "markdown",
   "metadata": {},
   "source": [
    "An example script for setting up the FATES run at BCI is located X. The slides in the FATES tutorial slide deck explain what each part of the script do. \n",
    "\n",
    "To run the script we open a terminal window and run the script with:  \n",
    "\n",
    "./create_elm-fates-singlepoint-1pft_bci_invinit.sh"
   ]
  },
  {
   "cell_type": "code",
   "execution_count": null,
   "metadata": {},
   "outputs": [],
   "source": []
  }
 ],
 "metadata": {
  "kernelspec": {
   "display_name": "NERSC Python",
   "language": "python",
   "name": "python3"
  },
  "language_info": {
   "codemirror_mode": {
    "name": "ipython",
    "version": 3
   },
   "file_extension": ".py",
   "mimetype": "text/x-python",
   "name": "python",
   "nbconvert_exporter": "python",
   "pygments_lexer": "ipython3",
   "version": "3.11.7"
  },
  "widgets": {
   "application/vnd.jupyter.widget-state+json": {
    "state": {},
    "version_major": 2,
    "version_minor": 0
   }
  }
 },
 "nbformat": 4,
 "nbformat_minor": 4
}
