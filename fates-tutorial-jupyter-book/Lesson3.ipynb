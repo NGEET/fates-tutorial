{
 "cells": [
  {
   "cell_type": "markdown",
   "metadata": {},
   "source": [
    "## Lesson 3\n",
    "\n",
    "In this lesson you will set up a FATES run at your site of interest. In order to run FATES at a new site you need site specific surface and domain files, as well as forcing data. We have generated these for you, but the scripts are located in your container for future use. Here we briefly describe them.\n"
   ]
  },
  {
   "cell_type": "markdown",
   "metadata": {},
   "source": [
    "### Making surface datafiles"
   ]
  },
  {
   "cell_type": "markdown",
   "metadata": {},
   "source": [
    "In the tools directory you'll find a file called Make_surface_domain_files.ipynb. By editing the latitude and longitude at the top of the file you can generate surface and domain files for any location by subsetting global files. We used global files located on the computers here at LBNL, which we can share if people want to run FATES at different sites in future."
   ]
  },
  {
   "cell_type": "markdown",
   "metadata": {},
   "source": [
    "### Subsetting climate data"
   ]
  },
  {
   "cell_type": "markdown",
   "metadata": {},
   "source": [
    "Also in the tools directory is the Make_met_drivers.ipynb file which takes global reanalysis data and subsets it for the site of interest. "
   ]
  },
  {
   "cell_type": "markdown",
   "metadata": {},
   "source": [
    "### Testing the new site"
   ]
  },
  {
   "cell_type": "markdown",
   "metadata": {},
   "source": [
    "At this point it is good to run a quick test to make sure FATES works with these new files. \n",
    "Make a copy of the create script and rename it to incldue the site name. Then open it with your favourite text editor and edit key lines to point to the new climate, surface and domian files. Some tips are below: \n",
    "\n",
    "Use the cp command to make a copy of the file. This takes two arguments, the original file and the new file name e.g. cp original.sh new.sh\n",
    "\n",
    "Use emacs, vim, nano etc to open the new file. Change the site name, and the length of the simulation. We only want to check that it works at this point. "
   ]
  },
  {
   "cell_type": "markdown",
   "metadata": {},
   "source": [
    "### Defining PFTs"
   ]
  },
  {
   "cell_type": "markdown",
   "metadata": {},
   "source": [
    "A key part of running FATES at different sites is ensuring the parameter file reflects the Plant Functional Types at that site. For example if there are site specific allometries they can be used to define the dbh to height and dbh to AGB relationships in FATES. Or if there are data on leaf traits those can be used. "
   ]
  },
  {
   "cell_type": "code",
   "execution_count": null,
   "metadata": {},
   "outputs": [],
   "source": [
    "Have a go "
   ]
  },
  {
   "cell_type": "code",
   "execution_count": null,
   "metadata": {},
   "outputs": [],
   "source": []
  }
 ],
 "metadata": {
  "kernelspec": {
   "display_name": "NERSC Python",
   "language": "python",
   "name": "python3"
  },
  "language_info": {
   "codemirror_mode": {
    "name": "ipython",
    "version": 3
   },
   "file_extension": ".py",
   "mimetype": "text/x-python",
   "name": "python",
   "nbconvert_exporter": "python",
   "pygments_lexer": "ipython3",
   "version": "3.11.7"
  },
  "widgets": {
   "application/vnd.jupyter.widget-state+json": {
    "state": {},
    "version_major": 2,
    "version_minor": 0
   }
  }
 },
 "nbformat": 4,
 "nbformat_minor": 4
}
