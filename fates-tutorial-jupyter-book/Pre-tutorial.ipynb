{
 "cells": [
  {
   "cell_type": "markdown",
   "metadata": {},
   "source": [
    "# Pre-tutorial\n",
    "\n",
    "This lesson should be completed prior to the start of the FATES tutorial to ensure that you have everything you need for a successful week running FATES. This lesson will guide you through formating your site data (if you intend to run FATES at your site during the tutorial), setting up Docker, and downloading your individual FATES container.   \n",
    "\n",
    "\n",
    "\n"
   ]
  },
  {
   "cell_type": "markdown",
   "metadata": {},
   "source": [
    "## Setting up Docker\n",
    "- \n"
   ]
  },
  {
   "cell_type": "markdown",
   "metadata": {},
   "source": [
    "## Downloading your FATES container\n",
    "- \n"
   ]
  },
  {
   "cell_type": "markdown",
   "metadata": {},
   "source": [
    "## Formatting site data"
   ]
  },
  {
   "cell_type": "markdown",
   "metadata": {},
   "source": [
    "If you are planning to run FATES initialised with inventory data you will need to do some pre-processing to get your data in a format that FATES can use. The easiest way to do this is to use the ATFS data federation app to first convert your data into a standarised format. You can then use the R script provided with this notebook to convert it to the format that FATES needs.   "
   ]
  },
  {
   "cell_type": "markdown",
   "metadata": {},
   "source": [
    "### ATFS Data Federation App"
   ]
  },
  {
   "cell_type": "markdown",
   "metadata": {},
   "source": [
    "The Data Federation App (Badouard et al. 2022) is a tool developed as part of the Alliance for Tropical Forest Sciene (ATFS) to accelerate collaborations between forest plot networks without the need for data to be centralised. The Data Federation App allows users to convert their data to a new format, either one of a number of standard formats associated with different plot networks, or a new custom format. \n",
    "\n",
    "For this tutorial we ask that you follow the instructions on the ATFS Data Federation App GitHub page (https://github.com/Alliance-for-Tropical-Forest-Science/DataHarmonization) and convert your data to the default output. The App will ask if you wish to do DBH taper corrections and taxonomic corrections. This is recocmmended but not essential for the purposes of the tutorial. \n",
    "\n",
    "If you have problems using the app or prefer to do your own processing, details on the necessary data format are below. "
   ]
  },
  {
   "cell_type": "markdown",
   "metadata": {},
   "source": [
    "### R script"
   ]
  },
  {
   "cell_type": "markdown",
   "metadata": {},
   "source": [
    "To run the R script below you will need data with the following columns: \n",
    "Site - the name of your site \n",
    "Date - the date of tree measurements in the format YYY-MM-DD \n",
    "IdCensus - if your data contains measurements from more than one census this is the census ID \n",
    "PlotArea - the total area of your plot in ha\n",
    "Subplot - unique subplot identifier\n",
    "SubplotArea - the  area of the subplot in ha (we will assume all subplots are the same size in this tutorial)\n",
    "ScientificName - the Latin binomial of the tree (Genus species)\n",
    "Original_status - whether the tree is alive or dead (A must be the only code for an alive tree)"
   ]
  },
  {
   "cell_type": "code",
   "execution_count": null,
   "metadata": {},
   "outputs": [],
   "source": []
  },
  {
   "cell_type": "markdown",
   "metadata": {},
   "source": [
    "#### References\n",
    "Vincyane Badouard, Valentine Herrmann and Camille Piponiot (2022). DataHarmonization: Forest Inventories Harmonization & Correction. R package version 0.0.0.9000. https://github.com/Alliance-for-Tropical-Forest-Science/DataHarmonization.git"
   ]
  },
  {
   "cell_type": "code",
   "execution_count": null,
   "metadata": {},
   "outputs": [],
   "source": []
  }
 ],
 "metadata": {
  "kernelspec": {
   "display_name": "Python 3 (ipykernel)",
   "language": "python",
   "name": "python3"
  },
  "language_info": {
   "codemirror_mode": {
    "name": "ipython",
    "version": 3
   },
   "file_extension": ".py",
   "mimetype": "text/x-python",
   "name": "python",
   "nbconvert_exporter": "python",
   "pygments_lexer": "ipython3",
   "version": "3.11.3"
  },
  "widgets": {
   "application/vnd.jupyter.widget-state+json": {
    "state": {},
    "version_major": 2,
    "version_minor": 0
   }
  }
 },
 "nbformat": 4,
 "nbformat_minor": 4
}
