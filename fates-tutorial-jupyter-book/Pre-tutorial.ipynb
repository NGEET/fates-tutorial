{
 "cells": [
  {
   "cell_type": "markdown",
   "metadata": {},
   "source": [
    "## Pre-tutorial\n",
    "\n",
    "This lesson should be completed prior to the start of the FATES tutorial to ensure that you have everything you need for a successful week running FATES. This lesson will guide you through formating your site data (if you intend to run FATES at your site during the tutorial), setting up Docker, and downloading your individual FATES container.   \n",
    "\n",
    "### Formatting site data\n",
    "-\n",
    "\n",
    "### Setting up Docker\n",
    "- \n",
    "\n",
    "### Downloading your FATES container\n",
    "- \n"
   ]
  },
  {
   "cell_type": "code",
   "execution_count": null,
   "metadata": {},
   "outputs": [],
   "source": []
  }
 ],
 "metadata": {
  "kernelspec": {
   "display_name": "Python 3 (ipykernel)",
   "language": "python",
   "name": "python3"
  },
  "language_info": {
   "codemirror_mode": {
    "name": "ipython",
    "version": 3
   },
   "file_extension": ".py",
   "mimetype": "text/x-python",
   "name": "python",
   "nbconvert_exporter": "python",
   "pygments_lexer": "ipython3",
   "version": "3.11.3"
  },
  "widgets": {
   "application/vnd.jupyter.widget-state+json": {
    "state": {},
    "version_major": 2,
    "version_minor": 0
   }
  }
 },
 "nbformat": 4,
 "nbformat_minor": 4
}
