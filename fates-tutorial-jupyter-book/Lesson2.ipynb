{
 "cells": [
  {
   "cell_type": "markdown",
   "metadata": {},
   "source": [
    "## Lesson 2 \n",
    "\n",
    "Lesson 2 shows you how to run an example FATES simulation using the FATES container you downloaded in Lesson 1.\n",
    "\n",
    "In this tutorial we are running FATES at Barro Colorado Island (BCI), Panama. In our first example we will initialize the model with inventory data from the 50 ha ForestGEO plot on the island and run with a single tropical broadleaf evergreen tree PFT. We will run the model for 50 years and assess changes in the aboveground biomass, number of individuals, size structure, and growth and mortality rates through time.   \n",
    "\n"
   ]
  },
  {
   "cell_type": "markdown",
   "metadata": {},
   "source": [
    "#### Starting the run\n",
    "\n",
    "To run the first example simulation we use the command run_fates. This python script creates, compiles and submits a FATES run. It can be customised in various ways which we describe below. "
   ]
  },
  {
   "cell_type": "markdown",
   "metadata": {},
   "source": [
    "#### FATES namelist options\n",
    "\n",
    "FATES can be run in a number of configurations, with optional modules turned on or off. These options are controlled \n",
    "by namelist settings. The full list of namelist options is described in the [FATES User' Guide](https://fates-users-guide.readthedocs.io/en/latest/user/Namelist-Options-and-Run-Time-Modes.html). For this tutorial we will be running \n",
    "the default configuration, but in future you can explore the optional \n",
    "configurations like no-comp mode, where PFTs do not compete, or running with fire or logging turned on."
   ]
  },
  {
   "cell_type": "markdown",
   "metadata": {},
   "source": [
    "#### FATES history outputs\n",
    "\n",
    "FATES generates many history variables that describe the state of the simulation at each time step. The full list of history variables can  be found in [this subroutine](https://github.com/NGEET/fates/blob/21e18c676b5e87999faead5fad9c610df4fbf255/main/FatesHistoryInterfaceMod.F90#L5233) in the FATES code. Many history variables are output by default, but others we need to specify by listing them in the history_outputs file. If you open this file you will see many history outputs listed. The run_fates command takes the name of the history outputs file as an argument. We will learn how to visualise these history variables in lesson 3. \n"
   ]
  },
  {
   "cell_type": "code",
   "execution_count": null,
   "metadata": {},
   "outputs": [],
   "source": []
  }
 ],
 "metadata": {
  "kernelspec": {
   "display_name": "Python 3 (ipykernel)",
   "language": "python",
   "name": "python3"
  },
  "language_info": {
   "codemirror_mode": {
    "name": "ipython",
    "version": 3
   },
   "file_extension": ".py",
   "mimetype": "text/x-python",
   "name": "python",
   "nbconvert_exporter": "python",
   "pygments_lexer": "ipython3",
   "version": "3.11.3"
  },
  "widgets": {
   "application/vnd.jupyter.widget-state+json": {
    "state": {},
    "version_major": 2,
    "version_minor": 0
   }
  }
 },
 "nbformat": 4,
 "nbformat_minor": 4
}
